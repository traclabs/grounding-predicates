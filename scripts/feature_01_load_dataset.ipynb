{
 "cells": [
  {
   "cell_type": "markdown",
   "metadata": {},
   "source": [
    "# Feature 1: Load Dataset\n",
    "\n",
    "Script for loading a hdf5 file and visualize one of the datapoints on the dataset "
   ]
  },
  {
   "cell_type": "code",
   "execution_count": 2,
   "metadata": {},
   "outputs": [],
   "source": [
    "%load_ext autoreload\n",
    "%autoreload 2\n",
    "\n",
    "import os, sys\n",
    "sys.path.append(os.path.dirname(sys.path[0]))"
   ]
  },
  {
   "cell_type": "markdown",
   "metadata": {},
   "source": [
    "## Configure environment"
   ]
  },
  {
   "cell_type": "code",
   "execution_count": 3,
   "metadata": {},
   "outputs": [],
   "source": [
    "import os\n",
    "os.environ[\"SDL_VIDEODRIVER\"] = \"dummy\"\n",
    "os.environ[\"PYGAME_HIDE_SUPPORT_PROMPT\"] = \"1\"\n",
    "import yaml\n",
    "\n",
    "import pygame\n",
    "pygame.init()\n",
    "\n",
    "import symbolic\n",
    "from config import EnvironmentPaths\n",
    "\n",
    "paths = EnvironmentPaths(environment=\"gridworld\")\n",
    "pddl = symbolic.Pddl(str(paths.domain_pddl), str(paths.problem_pddl))\n",
    "\n",
    "with open(paths.env / \"config.yaml\") as f:\n",
    "    config = yaml.full_load(f)"
   ]
  },
  {
   "cell_type": "markdown",
   "metadata": {},
   "source": [
    "## Define functions useful for loading dataset"
   ]
  },
  {
   "cell_type": "markdown",
   "metadata": {},
   "source": [
    "### Define state generation functions"
   ]
  },
  {
   "cell_type": "code",
   "execution_count": 4,
   "metadata": {},
   "outputs": [],
   "source": [
    "import typing\n",
    "\n",
    "import numpy as np\n",
    "\n",
    "from env.gridworld import propositions\n",
    "from env.gridworld.dataset import LogDatabase\n",
    "from env.gridworld.propositions import ArgumentTypeError, PropositionValueError\n",
    "from env.gridworld.world import World\n"
   ]
  },
  {
   "cell_type": "markdown",
   "metadata": {},
   "source": [
    "### Define IO functions"
   ]
  },
  {
   "cell_type": "code",
   "execution_count": 5,
   "metadata": {},
   "outputs": [],
   "source": [
    "import random\n",
    "\n",
    "import matplotlib.pyplot as plt\n",
    "import numpy as np\n",
    "\n",
    "class Stdout:\n",
    "    \"\"\"Dummy class for logging to stdout.\"\"\"\n",
    "    def write(self, message):\n",
    "        print(message)\n",
    "\n",
    "def save_images(log, img_pre, img_post):\n",
    "    \"\"\"Save pre and post images with the current log key.\n",
    "    \n",
    "    Args:\n",
    "        log (env.gridworld.dataset.LogDatabase): Log database.\n",
    "        img_pre (np.ndarray): Pre image.\n",
    "        img_post (np.ndarray): Post image.\n",
    "    \"\"\"\n",
    "    plt.imsave(log.path_images / f\"{log.key}_pre.png\", img_pre)\n",
    "    plt.imsave(log.path_images / f\"{log.key}_post.png\", img_post)\n",
    "    \n",
    "def load_images(log, key):\n",
    "    \"\"\"Load pre and post images from the given log key.\n",
    "    \n",
    "    Args:\n",
    "        log (env.gridworld.dataset.LogDatabase): Log database.\n",
    "        key (int): Log to load.\n",
    "    Returns:\n",
    "        (np.ndarray, np.ndarray): Pair of pre, post images\n",
    "    \"\"\"\n",
    "    img_pre = plt.imread(log.path_images / f\"{key}_pre.png\")\n",
    "    img_post = plt.imread(log.path_images / f\"{key}_post.png\")\n",
    "    return (img_pre, img_post)\n",
    "\n",
    "def render_images(img_pre, img_post):\n",
    "    \"\"\"Render pre and post images side-by-side.\n",
    "    \n",
    "    Args:\n",
    "        img_pre (np.ndarray): Pre image.\n",
    "        img_post (np.ndarray): Post image.\n",
    "    \"\"\"\n",
    "    fig = plt.figure(figsize=(14, 7))\n",
    "    ax1 = plt.subplot(121)\n",
    "    ax1.imshow(img_pre, interpolation='none')\n",
    "    ax2 = plt.subplot(122)\n",
    "    ax2.imshow(img_post, interpolation='none')\n",
    "    plt.show()\n",
    "\n",
    "def save_variables(log, pddl, config, action_call, conj, debug: bool = True):\n",
    "    \"\"\"Save the given variables, along with the current random seed, at the current log key.\n",
    "    \n",
    "    Args:\n",
    "        log (env.gridworld.dataset.LogDatabase): Log database.\n",
    "        pddl (symbolic.Pddl): Pddl instance.\n",
    "        config (dict): World config.\n",
    "        action_call (str): Action call.\n",
    "        conj (symbolic.PartialState): Precondition dnf conjunction.\n",
    "        debug: Save all variables if true, otherwise save only necessary variables.\n",
    "    \"\"\"\n",
    "    if debug:\n",
    "        log.save({\n",
    "            \"pddl\": pddl,\n",
    "            \"config\": config,\n",
    "            \"action_call\": action_call,\n",
    "            \"conj\": conj,\n",
    "            \"state_random\": random.getstate(),\n",
    "            \"state_np_random\": np.random.get_state(),\n",
    "        })\n",
    "    else:\n",
    "        log.save({\n",
    "            \"action_call\": action_call,\n",
    "        })\n",
    "\n",
    "def load_variables(log, key, verbose=True):\n",
    "    \"\"\"Load the saved variables, along with the saved random seed, at the given log key.\n",
    "    \n",
    "    Optionally print the saved log.\n",
    "    \n",
    "    Args:\n",
    "        log (env.gridworld.dataset.LogDatabase): Log database.\n",
    "        key (int): Log to load.\n",
    "        verbose (bool, optional): Whether to print the log (default True).\n",
    "    Returns:\n",
    "        (pddl, config, action_call, conj): Tuple of saved variables.\n",
    "    \"\"\"\n",
    "    # Load variables\n",
    "    variables = log.load(key, verbose=verbose)\n",
    "    pddl = variables[\"pddl\"]\n",
    "    config = variables[\"config\"]\n",
    "    action_call = variables[\"action_call\"]\n",
    "    conj = variables[\"conj\"]\n",
    "    \n",
    "    # Set random state\n",
    "    random.setstate(variables[\"state_random\"])\n",
    "    np.random.set_state(variables[\"state_np_random\"])\n",
    "    \n",
    "    return pddl, config, action_call, conj"
   ]
  },
  {
   "cell_type": "markdown",
   "metadata": {},
   "source": [
    "### Load dataset\n",
    "\n",
    "Take logs, images, and variables from `data/gridworld` and convert them to vector format in `data/gridworld/dataset.h5`."
   ]
  },
  {
   "cell_type": "code",
   "execution_count": 8,
   "metadata": {},
   "outputs": [
    {
     "name": "stdout",
     "output_type": "stream",
     "text": [
      "Key: 3317 . Action: b'pick-fail(chest_key, room_b)'\n",
      "Boxes pre: \n",
      "[[ 40.  20.  60.  40.]\n",
      " [ 40.  20.  60.  40.]\n",
      " [  0.   0. 120. 220.]\n",
      " [100.   0. 220. 220.]\n",
      " [100.  80. 120. 100.]\n",
      " [ nan  nan  nan  nan]\n",
      " [ 20.  20.  40.  40.]\n",
      " [140.  60. 160.  80.]\n",
      " [ nan  nan  nan  nan]]\n",
      "Boxes post: \n",
      "[[ 40.  20.  60.  40.]\n",
      " [ 40.  20.  60.  40.]\n",
      " [  0.   0. 120. 220.]\n",
      " [100.   0. 220. 220.]\n",
      " [100.  80. 120. 100.]\n",
      " [ nan  nan  nan  nan]\n",
      " [ 20.  20.  40.  40.]\n",
      " [140.  60. 160.  80.]\n",
      " [ nan  nan  nan  nan]]\n",
      "S pre\n",
      "[False False False False False False  True False False False False False\n",
      " False False False False False False False False False False False False\n",
      " False False False False False  True False False False False False False\n",
      " False False False False False False False False False False False False\n",
      " False False False False False False False False False False False False\n",
      " False False False False False  True  True False False False False False\n",
      " False False False False False False False False False False False  True\n",
      " False False False False False False False False False  True False False\n",
      " False False False False False False False False False False False False\n",
      " False  True  True False False False False False False False False False\n",
      " False False False False False False False False False False False False\n",
      " False False False False False False False False False False False False\n",
      " False False False False False False False False False False False False\n",
      " False False False False False False False False False False False False\n",
      " False False False False False False  True False False False False False\n",
      " False False False False False False False False False False False False\n",
      " False False False False False]\n"
     ]
    },
    {
     "data": {
      "image/png": "[encoded data removed]",
      "text/plain": [
       "<Figure size 1008x504 with 2 Axes>"
      ]
     },
     "metadata": {
      "needs_background": "light"
     },
     "output_type": "display_data"
    }
   ],
   "source": [
    "from env.gridworld.dataset import LogDatabase\n",
    "import tqdm.notebook\n",
    "import h5py\n",
    "import pathlib\n",
    "\n",
    "# Create log database in case previous cell was not run\n",
    "log = LogDatabase(path=paths.data)\n",
    "\n",
    "path = paths.data\n",
    "dataset = \"dataset_gridworld.hdf5\"\n",
    "\n",
    "def show_data(path, dataset, idx):\n",
    "\n",
    "    with h5py.File(pathlib.Path(path) / dataset, \"r\") as f:\n",
    "        #print(f.keys())\n",
    "        \n",
    "        # Get dsets\n",
    "        img_pre_dset = f[\"img_pre\"]\n",
    "        img_post_dset = f[\"img_post\"]\n",
    "        key_dset = f[\"keys\"]\n",
    "        action_dset = f[\"actions\"]\n",
    "        boxes_pre_dset = f[\"boxes_pre\"]\n",
    "        boxes_post_dset = f[\"boxes_post\"]\n",
    "        s_post_dset = f[\"s_post\"]\n",
    "        s_pre_dset = f[\"s_pre\"]\n",
    "        \n",
    "        #print(img_pre_dset.shape)\n",
    "        #print(key_dset.shape)\n",
    "    \n",
    "        print(\"Key: {} . Action: {}\".format(key_dset[idx], action_dset[idx]))\n",
    "        print(\"Boxes pre: \")\n",
    "        print(boxes_pre_dset[idx])\n",
    "        \n",
    "        print(\"Boxes post: \")\n",
    "        print(boxes_post_dset[idx])\n",
    "        \n",
    "        print(\"S pre\")\n",
    "        print(s_pre_dset[idx])\n",
    "        \n",
    "        img_pre = img_pre_dset[idx]\n",
    "        img_post = img_post_dset[idx]\n",
    "        \n",
    "        fig = plt.figure(figsize=(14,7))\n",
    "        ax1 = plt.subplot(121)\n",
    "        ax1.imshow(img_pre, interpolation='none')\n",
    "        ax2 = plt.subplot(122)\n",
    "        ax2.imshow(img_post, interpolation='none')\n",
    "        plt.show()\n",
    "                \n",
    "        # Save\n",
    "        log.key = idx\n",
    "        save_images(log, img_pre, img_post)\n",
    "            \n",
    "# Test with an idx    \n",
    "idx = 2003\n",
    "show_data(path, dataset, idx)\n",
    "\n",
    "#log.publish_dataset(\"dataset.hdf5\", tqdm=tqdm.notebook.tqdm)"
   ]
  },
  {
   "cell_type": "code",
   "execution_count": null,
   "metadata": {},
   "outputs": [],
   "source": []
  },
  {
   "cell_type": "code",
   "execution_count": null,
   "metadata": {},
   "outputs": [],
   "source": []
  }
 ],
 "metadata": {
  "kernelspec": {
   "display_name": "Python 3",
   "language": "python",
   "name": "python3"
  },
  "language_info": {
   "codemirror_mode": {
    "name": "ipython",
    "version": 3
   },
   "file_extension": ".py",
   "mimetype": "text/x-python",
   "name": "python",
   "nbconvert_exporter": "python",
   "pygments_lexer": "ipython3",
   "version": "3.8.10"
  }
 },
 "nbformat": 4,
 "nbformat_minor": 4
}
